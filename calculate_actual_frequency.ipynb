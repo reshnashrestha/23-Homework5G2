{
 "cells": [
  {
   "cell_type": "code",
   "execution_count": 10,
   "metadata": {},
   "outputs": [],
   "source": [
    "import pandas as pd\n",
    "import matplotlib.pyplot as plt"
   ]
  },
  {
   "cell_type": "code",
   "execution_count": 11,
   "metadata": {},
   "outputs": [],
   "source": [
    "def find_peak_frequency(data):\n",
    "    \"\"\"\n",
    "    Function takes a pandas DataFrame `data` containing a column named 'value' to represent a time series of measurements. \n",
    "\n",
    "    Parameters:\n",
    "    - data : pandas DataFrame\n",
    "        Data containing date and values with date assigned in years and months.\n",
    "\n",
    "    Returns:\n",
    "    - cycles_per_year : float\n",
    "        The estimated frequency in cycles per year.\n",
    "    \"\"\"  \n",
    "    values = data['value'].to_numpy()\n",
    "\n",
    "    # Perform a Fast Fourier Transform (FFT) on the data\n",
    "    timestep = 1  # Calculate the time step (assuming a regular monthly sampling)\n",
    "    fft_result = np.fft.fft(values)\n",
    "    fft_freq = np.fft.fftfreq(len(fft_result), d=timestep)  # Compute the corresponding frequencies in cycles per month\n",
    "\n",
    "    # Set a threshold to identify high-frequency components\n",
    "    threshold = 0.01\n",
    "    fft_result[np.abs(fft_freq) > threshold] = 0  # Zero out high-frequency components\n",
    "    cleaned_data = np.fft.ifft(fft_result)\n",
    "\n",
    "    # Find the frequency component with the highest magnitude\n",
    "    peak_frequency_index = np.argmax(np.abs(cleaned_data))\n",
    "    peak_frequency = np.abs(fft_freq[peak_frequency_index])\n",
    "\n",
    "    # Convert the peak frequency to useful units\n",
    "    cycles_per_year = peak_frequency * 12  # Assuming 12 months in a year\n",
    "\n",
    "    return cycles_per_year"
   ]
  },
  {
   "cell_type": "code",
   "execution_count": 12,
   "metadata": {},
   "outputs": [],
   "source": [
    "def calculate_frequencies(X):\n",
    "    sample_spacing = 1/12  #assuming yearly data, so the spacing is cycles per year\n",
    "    N = len(X)\n",
    "    freqs = np.fft.fftfreq(N, d=sample_spacing)\n",
    "    return freqs[:N//2]   # return only positive frequencies\n"
   ]
  },
  {
   "cell_type": "code",
   "execution_count": 13,
   "metadata": {},
   "outputs": [],
   "source": [
    "# Read data from the provided URL\n",
    "data = pd.read_csv('https://gml.noaa.gov/aftp/data/trace_gases/co2/flask/surface/txt/co2_avi_surface-flask_1_ccgg_month.txt',\n",
    "                   delimiter='\\s+', skiprows=54, names=['site', 'year', 'month', 'value'])"
   ]
  },
  {
   "cell_type": "code",
   "execution_count": 14,
   "metadata": {},
   "outputs": [
    {
     "data": {
      "text/html": [
       "<div>\n",
       "<style scoped>\n",
       "    .dataframe tbody tr th:only-of-type {\n",
       "        vertical-align: middle;\n",
       "    }\n",
       "\n",
       "    .dataframe tbody tr th {\n",
       "        vertical-align: top;\n",
       "    }\n",
       "\n",
       "    .dataframe thead th {\n",
       "        text-align: right;\n",
       "    }\n",
       "</style>\n",
       "<table border=\"1\" class=\"dataframe\">\n",
       "  <thead>\n",
       "    <tr style=\"text-align: right;\">\n",
       "      <th></th>\n",
       "      <th>site</th>\n",
       "      <th>year</th>\n",
       "      <th>month</th>\n",
       "      <th>value</th>\n",
       "    </tr>\n",
       "  </thead>\n",
       "  <tbody>\n",
       "    <tr>\n",
       "      <th>0</th>\n",
       "      <td>AVI</td>\n",
       "      <td>1979</td>\n",
       "      <td>4</td>\n",
       "      <td>340.65</td>\n",
       "    </tr>\n",
       "    <tr>\n",
       "      <th>1</th>\n",
       "      <td>AVI</td>\n",
       "      <td>1979</td>\n",
       "      <td>5</td>\n",
       "      <td>340.60</td>\n",
       "    </tr>\n",
       "    <tr>\n",
       "      <th>2</th>\n",
       "      <td>AVI</td>\n",
       "      <td>1979</td>\n",
       "      <td>6</td>\n",
       "      <td>338.81</td>\n",
       "    </tr>\n",
       "    <tr>\n",
       "      <th>3</th>\n",
       "      <td>AVI</td>\n",
       "      <td>1979</td>\n",
       "      <td>7</td>\n",
       "      <td>334.66</td>\n",
       "    </tr>\n",
       "    <tr>\n",
       "      <th>4</th>\n",
       "      <td>AVI</td>\n",
       "      <td>1979</td>\n",
       "      <td>8</td>\n",
       "      <td>332.47</td>\n",
       "    </tr>\n",
       "    <tr>\n",
       "      <th>...</th>\n",
       "      <td>...</td>\n",
       "      <td>...</td>\n",
       "      <td>...</td>\n",
       "      <td>...</td>\n",
       "    </tr>\n",
       "    <tr>\n",
       "      <th>124</th>\n",
       "      <td>AVI</td>\n",
       "      <td>1990</td>\n",
       "      <td>4</td>\n",
       "      <td>357.72</td>\n",
       "    </tr>\n",
       "    <tr>\n",
       "      <th>125</th>\n",
       "      <td>AVI</td>\n",
       "      <td>1990</td>\n",
       "      <td>5</td>\n",
       "      <td>357.98</td>\n",
       "    </tr>\n",
       "    <tr>\n",
       "      <th>126</th>\n",
       "      <td>AVI</td>\n",
       "      <td>1990</td>\n",
       "      <td>6</td>\n",
       "      <td>357.32</td>\n",
       "    </tr>\n",
       "    <tr>\n",
       "      <th>127</th>\n",
       "      <td>AVI</td>\n",
       "      <td>1990</td>\n",
       "      <td>7</td>\n",
       "      <td>354.72</td>\n",
       "    </tr>\n",
       "    <tr>\n",
       "      <th>128</th>\n",
       "      <td>AVI</td>\n",
       "      <td>1990</td>\n",
       "      <td>8</td>\n",
       "      <td>351.97</td>\n",
       "    </tr>\n",
       "  </tbody>\n",
       "</table>\n",
       "<p>129 rows × 4 columns</p>\n",
       "</div>"
      ],
      "text/plain": [
       "    site  year  month   value\n",
       "0    AVI  1979      4  340.65\n",
       "1    AVI  1979      5  340.60\n",
       "2    AVI  1979      6  338.81\n",
       "3    AVI  1979      7  334.66\n",
       "4    AVI  1979      8  332.47\n",
       "..   ...   ...    ...     ...\n",
       "124  AVI  1990      4  357.72\n",
       "125  AVI  1990      5  357.98\n",
       "126  AVI  1990      6  357.32\n",
       "127  AVI  1990      7  354.72\n",
       "128  AVI  1990      8  351.97\n",
       "\n",
       "[129 rows x 4 columns]"
      ]
     },
     "execution_count": 14,
     "metadata": {},
     "output_type": "execute_result"
    }
   ],
   "source": [
    "df"
   ]
  },
  {
   "cell_type": "code",
   "execution_count": 15,
   "metadata": {},
   "outputs": [
    {
     "name": "stdout",
     "output_type": "stream",
     "text": [
      "Peak Frequency (Cycles per year): 2.7906976744186047\n"
     ]
    }
   ],
   "source": [
    "# Calculate peak frequency\n",
    "cycles_per_year = find_peak_frequency(data)\n",
    "print(\"Peak Frequency (Cycles per year):\", cycles_per_year)"
   ]
  },
  {
   "cell_type": "code",
   "execution_count": 16,
   "metadata": {},
   "outputs": [
    {
     "name": "stdout",
     "output_type": "stream",
     "text": [
      "Peak Frequency (Cycles per year): 2.7906976744186047\n",
      "Actual Frequencies (Cycles per year):\n",
      "[0.         0.09302326 0.18604651 0.27906977 0.37209302 0.46511628\n",
      " 0.55813953 0.65116279 0.74418605 0.8372093  0.93023256 1.02325581\n",
      " 1.11627907 1.20930233 1.30232558 1.39534884 1.48837209 1.58139535\n",
      " 1.6744186  1.76744186 1.86046512 1.95348837 2.04651163 2.13953488\n",
      " 2.23255814 2.3255814  2.41860465 2.51162791 2.60465116 2.69767442\n",
      " 2.79069767 2.88372093 2.97674419 3.06976744 3.1627907  3.25581395\n",
      " 3.34883721 3.44186047 3.53488372 3.62790698 3.72093023 3.81395349\n",
      " 3.90697674 4.         4.09302326 4.18604651 4.27906977 4.37209302\n",
      " 4.46511628 4.55813953 4.65116279 4.74418605 4.8372093  4.93023256\n",
      " 5.02325581 5.11627907 5.20930233 5.30232558 5.39534884 5.48837209\n",
      " 5.58139535 5.6744186  5.76744186 5.86046512]\n"
     ]
    }
   ],
   "source": [
    "# Calculate peak frequency\n",
    "cycles_per_year = find_peak_frequency(data)\n",
    "print(\"Peak Frequency (Cycles per year):\", cycles_per_year)\n",
    "\n",
    "# Calculate actual frequencies\n",
    "values = data['value'].to_numpy()\n",
    "frequencies = calculate_frequencies(values)\n",
    "\n",
    "print(\"Actual Frequencies (Cycles per year):\")\n",
    "print(frequencies)"
   ]
  }
 ],
 "metadata": {
  "kernelspec": {
   "display_name": "Python 3",
   "language": "python",
   "name": "python3"
  },
  "language_info": {
   "codemirror_mode": {
    "name": "ipython",
    "version": 3
   },
   "file_extension": ".py",
   "mimetype": "text/x-python",
   "name": "python",
   "nbconvert_exporter": "python",
   "pygments_lexer": "ipython3",
   "version": "3.11.5"
  }
 },
 "nbformat": 4,
 "nbformat_minor": 2
}
